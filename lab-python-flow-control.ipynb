{
 "cells": [
  {
   "cell_type": "markdown",
   "id": "d3bfc191-8885-42ee-b0a0-bbab867c6f9f",
   "metadata": {
    "tags": []
   },
   "source": [
    "# Lab | Flow Control"
   ]
  },
  {
   "cell_type": "markdown",
   "id": "3851fcd1-cf98-4653-9c89-e003b7ec9400",
   "metadata": {},
   "source": [
    "## Exercise: Managing Customer Orders Optimized\n",
    "\n",
    "In the last lab, you were starting an online store that sells various products. To ensure smooth operations, you developed a program that manages customer orders and inventory.\n",
    "\n",
    "You did so without using flow control. Let's go a step further and improve this code.\n",
    "\n",
    "Follow the steps below to complete the exercise:\n",
    "\n",
    "1. Look at your code from the lab data structures, and improve repeated code with loops.\n",
    "\n",
    "2. Instead of asking the user to input the name of three products that a customer wants to order, do the following:\n",
    "    \n",
    "    a. Prompt the user to enter the name of a product that a customer wants to order.\n",
    "    \n",
    "    b. Add the product name to the \"customer_orders\" set.\n",
    "    \n",
    "    c. Ask the user if they want to add another product (yes/no).\n",
    "    \n",
    "    d. Continue the loop until the user does not want to add another product.\n",
    "\n",
    "3. Instead of updating the inventory by subtracting 1 from the quantity of each product, only do it for  the products that were ordered (those in \"customer_orders\")."
   ]
  },
  {
   "cell_type": "code",
   "execution_count": 57,
   "id": "d6a6b68e-d30f-451c-a975-a33460b1de21",
   "metadata": {},
   "outputs": [
    {
     "name": "stdin",
     "output_type": "stream",
     "text": [
      "How many t-shirt do we have in stock: 5\n",
      "How many mug do we have in stock: 5\n",
      "How many hat do we have in stock: 5\n",
      "How many book do we have in stock: 5\n",
      "How many keychain do we have in stock: 5\n"
     ]
    },
    {
     "name": "stdout",
     "output_type": "stream",
     "text": [
      "{'t-shirt': 5, 'mug': 5, 'hat': 5, 'book': 5, 'keychain': 5}\n"
     ]
    }
   ],
   "source": [
    "products = [\"t-shirt\", \"mug\", \"hat\", \"book\", \"keychain\"]\n",
    "inventory = {}\n",
    "\n",
    "for i in products:\n",
    "    values = int(input(f\"How many {i} do we have in stock:\"))\n",
    "    inventory.update({i:values})\n",
    "print (inventory)\n"
   ]
  },
  {
   "cell_type": "code",
   "execution_count": 59,
   "id": "641b3531-f6a1-4ced-8103-8afcbb32eb64",
   "metadata": {},
   "outputs": [
    {
     "name": "stdin",
     "output_type": "stream",
     "text": [
      "Pick one :['t-shirt', 'mug', 'hat', 'book', 'keychain'] mug\n",
      "Do you want to add another product (yes/no)?:  yes\n",
      "Pick one :['t-shirt', 'mug', 'hat', 'book', 'keychain'] book\n",
      "Do you want to add another product (yes/no)?:  yes\n",
      "Pick one :['t-shirt', 'mug', 'hat', 'book', 'keychain'] keychain\n",
      "Do you want to add another product (yes/no)?:  yes\n",
      "Pick one :['t-shirt', 'mug', 'hat', 'book', 'keychain'] hat\n",
      "Do you want to add another product (yes/no)?:  no\n"
     ]
    },
    {
     "name": "stdout",
     "output_type": "stream",
     "text": [
      "{'keychain', 'mug', 'book', 'hat'}\n"
     ]
    }
   ],
   "source": [
    "customer_orders = set()\n",
    "order_more = \"yes\"\n",
    "\n",
    "while order_more == \"yes\":\n",
    "    choice = input(f\"Pick one :{products}\")\n",
    "    customer_orders.add(choice)\n",
    "    order_more = input(\"Do you want to add another product (yes/no)?: \")\n",
    "\n",
    "print(customer_orders)"
   ]
  },
  {
   "cell_type": "code",
   "execution_count": 61,
   "id": "b6890d12-5a27-44e4-bb14-3810f7a38beb",
   "metadata": {},
   "outputs": [
    {
     "name": "stdout",
     "output_type": "stream",
     "text": [
      "keychain\n",
      "mug\n",
      "book\n",
      "hat\n",
      "{'t-shirt': 5, 'mug': 4, 'hat': 4, 'book': 4, 'keychain': 4}\n"
     ]
    }
   ],
   "source": [
    "for y in customer_orders:\n",
    "    print(y)\n",
    "    v = inventory[y]\n",
    "    inventory.update({y:v-1})\n",
    "\n",
    "print (inventory)"
   ]
  },
  {
   "cell_type": "code",
   "execution_count": null,
   "id": "2f8bf24f-e1c3-478f-bed7-6e53acff4f13",
   "metadata": {},
   "outputs": [],
   "source": []
  }
 ],
 "metadata": {
  "kernelspec": {
   "display_name": "Python 3 (ipykernel)",
   "language": "python",
   "name": "python3"
  },
  "language_info": {
   "codemirror_mode": {
    "name": "ipython",
    "version": 3
   },
   "file_extension": ".py",
   "mimetype": "text/x-python",
   "name": "python",
   "nbconvert_exporter": "python",
   "pygments_lexer": "ipython3",
   "version": "3.11.5"
  }
 },
 "nbformat": 4,
 "nbformat_minor": 5
}
